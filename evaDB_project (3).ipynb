{
 "cells": [
  {
   "cell_type": "code",
   "execution_count": 1,
   "metadata": {},
   "outputs": [
    {
     "name": "stdout",
     "output_type": "stream",
     "text": [
      "Note: you may need to restart the kernel to use updated packages.\n"
     ]
    }
   ],
   "source": [
    "%pip install --quiet \"evadb[document,notebook]\""
   ]
  },
  {
   "cell_type": "code",
   "execution_count": 2,
   "metadata": {
    "colab": {
     "base_uri": "https://localhost:8080/"
    },
    "id": "rmJmeP869U3S",
    "outputId": "a7150e71-eb0b-46ce-e60c-c8edd4b57d4b"
   },
   "outputs": [],
   "source": [
    "import evadb\n",
    "cursor = evadb.connect().cursor()"
   ]
  },
  {
   "cell_type": "code",
   "execution_count": 3,
   "metadata": {
    "colab": {
     "base_uri": "https://localhost:8080/"
    },
    "id": "MqDxN35iLp1C",
    "outputId": "ff36beb3-8deb-442d-8c42-f87beac5c092"
   },
   "outputs": [
    {
     "name": "stdout",
     "output_type": "stream",
     "text": [
      "Requirement already satisfied: requests in c:\\users\\henry\\anaconda3\\lib\\site-packages (2.31.0)\n",
      "Requirement already satisfied: charset-normalizer<4,>=2 in c:\\users\\henry\\anaconda3\\lib\\site-packages (from requests) (2.0.4)\n",
      "Requirement already satisfied: idna<4,>=2.5 in c:\\users\\henry\\anaconda3\\lib\\site-packages (from requests) (3.4)\n",
      "Requirement already satisfied: urllib3<3,>=1.21.1 in c:\\users\\henry\\anaconda3\\lib\\site-packages (from requests) (1.26.16)\n",
      "Requirement already satisfied: certifi>=2017.4.17 in c:\\users\\henry\\anaconda3\\lib\\site-packages (from requests) (2023.7.22)\n",
      "Note: you may need to restart the kernel to use updated packages.\n"
     ]
    }
   ],
   "source": [
    "%pip install requests"
   ]
  },
  {
   "cell_type": "code",
   "execution_count": 23,
   "metadata": {
    "id": "J3ijMSq7Ki_I"
   },
   "outputs": [],
   "source": [
    "import requests\n",
    "\n",
    "\n",
    "def get_lat_lng_from_address(address, api_key):\n",
    "    endpoint_url = \"https://maps.googleapis.com/maps/api/geocode/json\"\n",
    "\n",
    "    params = {\n",
    "        'address': address,\n",
    "        'key': api_key\n",
    "    }\n",
    "\n",
    "    response = requests.get(endpoint_url, params=params)\n",
    "    result = response.json()\n",
    "\n",
    "    if 'results' in result and len(result['results']) > 0:\n",
    "        location = result['results'][0]['geometry']['location']\n",
    "        return f\"{location['lat']},{location['lng']}\"\n",
    "    else:\n",
    "        return None\n",
    "\n",
    "def get_nearby_restaurants(address, api_key):\n",
    "    location = get_lat_lng_from_address(address, api_key)\n",
    "    if not location:\n",
    "        return []\n",
    "\n",
    "    endpoint_url = \"https://maps.googleapis.com/maps/api/place/nearbysearch/json\"\n",
    "    # radius calculated in meters\n",
    "    params = {\n",
    "        'location': location,\n",
    "        'radius': 500,\n",
    "        'type': 'restaurant',\n",
    "        'key': api_key\n",
    "    }\n",
    "\n",
    "    response = requests.get(endpoint_url, params=params)\n",
    "    result = response.json()\n",
    "\n",
    "    if 'results' in result:\n",
    "        restaurants = [place for place in result['results']]\n",
    "        return restaurants\n",
    "    else:\n",
    "        return []\n",
    "    \n",
    "def get_place_details(place_id, api_key):\n",
    "    endpoint_url = \"https://maps.googleapis.com/maps/api/place/details/json\"\n",
    "    params = {\n",
    "        'place_id': place_id,\n",
    "        'key': api_key,\n",
    "        'fields': 'rating,user_ratings_total,reviews'\n",
    "    }\n",
    "    response = requests.get(endpoint_url, params=params)\n",
    "    return response.json().get('result', {})"
   ]
  },
  {
   "cell_type": "code",
   "execution_count": 5,
   "metadata": {},
   "outputs": [],
   "source": [
    "def remove_chars_from_string(data):\n",
    "    data_str = str(data)\n",
    "    cleaned_str = data_str.replace(\"'\", \"\").replace(\"{\", \"\").replace(\"}\", \"\").replace(\"\\\"\", \"\")\n",
    "    return cleaned_str\n",
    "    "
   ]
  },
  {
   "cell_type": "code",
   "execution_count": 34,
   "metadata": {
    "colab": {
     "base_uri": "https://localhost:8080/"
    },
    "id": "TxTYMDNqL-kQ",
    "outputId": "d39eabbd-69f2-4a5f-d491-4403a36f6a63"
   },
   "outputs": [
    {
     "name": "stdout",
     "output_type": "stream",
     "text": [
      "[{'name': 'The General Muir', 'price_level': 2, 'user_ratings_total': 1867, 'wifi': None, 'pets': None}, {'name': 'BORUBORU', 'price_level': 2, 'user_ratings_total': 380, 'wifi': None, 'pets': None}, {'name': 'The Gumbo Gourmet', 'price_level': 1, 'user_ratings_total': 15, 'wifi': None, 'pets': None}, {'name': 'Desta Ethiopian Kitchen Emory Point', 'price_level': 2, 'user_ratings_total': 118, 'wifi': None, 'pets': None}, {'name': 'Srithai: Thai Kitchen & Sushi Bar (Emory)', 'price_level': 2, 'user_ratings_total': 143, 'wifi': None, 'pets': None}, {'name': \"Chick'nCone, Emory Point, Atlanta\", 'price_level': 1, 'user_ratings_total': 107, 'wifi': None, 'pets': None}, {'name': 'The Point', 'price_level': None, 'user_ratings_total': 21, 'wifi': None, 'pets': None}]\n",
      "[name: The General Muir, price_level: 2, user_ratings_total: 1867, wifi: None, pets: None, name: BORUBORU, price_level: 2, user_ratings_total: 380, wifi: None, pets: None, name: The Gumbo Gourmet, price_level: 1, user_ratings_total: 15, wifi: None, pets: None, name: Desta Ethiopian Kitchen Emory Point, price_level: 2, user_ratings_total: 118, wifi: None, pets: None, name: Srithai: Thai Kitchen & Sushi Bar (Emory), price_level: 2, user_ratings_total: 143, wifi: None, pets: None, name: ChicknCone, Emory Point, Atlanta, price_level: 1, user_ratings_total: 107, wifi: None, pets: None, name: The Point, price_level: None, user_ratings_total: 21, wifi: None, pets: None]\n"
     ]
    }
   ],
   "source": [
    "api_key = \"\"\n",
    "address = \"Emory Point\"\n",
    "restaurant_list = []\n",
    "restaurant_names = []\n",
    "restaurants = get_nearby_restaurants(address, api_key)\n",
    "# print(restaurants)\n",
    "for index, restaurant in enumerate(restaurants, 1):\n",
    "    restaurant_list.append({'name': restaurant['name'], 'price_level': restaurant.get('price_level'), 'user_ratings_total':restaurant.get('user_ratings_total'), 'wifi': restaurant.get('wifi'), 'pets': restaurant.get('pets')})\n",
    "    restaurant_names.append(restaurant['name'])\n",
    "print(restaurant_list)\n",
    "restaurant_list = remove_chars_from_string(restaurant_list)\n",
    "print(restaurant_list)"
   ]
  },
  {
   "cell_type": "code",
   "execution_count": 7,
   "metadata": {
    "colab": {
     "base_uri": "https://localhost:8080/"
    },
    "id": "JCqptjz1lWG_",
    "outputId": "fff10c73-3ad4-49c1-ffe1-8c7dfe38a3ea"
   },
   "outputs": [
    {
     "name": "stderr",
     "output_type": "stream",
     "text": [
      "'apt' is not recognized as an internal or external command,\n",
      "operable program or batch file.\n",
      "'service' is not recognized as an internal or external command,\n",
      "operable program or batch file.\n"
     ]
    }
   ],
   "source": [
    "!apt -qq install postgresql\n",
    "!service postgresql start"
   ]
  },
  {
   "cell_type": "code",
   "execution_count": null,
   "metadata": {
    "colab": {
     "base_uri": "https://localhost:8080/",
     "height": 80
    },
    "id": "7qbPqkvtDg2m",
    "outputId": "705bbd94-5cf3-4a56-f69e-db04e2d5cf28"
   },
   "outputs": [],
   "source": []
  },
  {
   "cell_type": "code",
   "execution_count": 30,
   "metadata": {
    "colab": {
     "base_uri": "https://localhost:8080/",
     "height": 80
    },
    "id": "6qJZO7Dyri9n",
    "outputId": "787da849-f036-4fc4-9939-be1e467f82c6"
   },
   "outputs": [
    {
     "name": "stdout",
     "output_type": "stream",
     "text": [
      "Requirement already satisfied: psycopg2 in c:\\users\\henry\\anaconda3\\lib\\site-packages (2.9.9)\n"
     ]
    },
    {
     "data": {
      "text/html": [
       "<div>\n",
       "<style scoped>\n",
       "    .dataframe tbody tr th:only-of-type {\n",
       "        vertical-align: middle;\n",
       "    }\n",
       "\n",
       "    .dataframe tbody tr th {\n",
       "        vertical-align: top;\n",
       "    }\n",
       "\n",
       "    .dataframe thead th {\n",
       "        text-align: right;\n",
       "    }\n",
       "</style>\n",
       "<table border=\"1\" class=\"dataframe\">\n",
       "  <thead>\n",
       "    <tr style=\"text-align: right;\">\n",
       "      <th></th>\n",
       "      <th>0</th>\n",
       "    </tr>\n",
       "  </thead>\n",
       "  <tbody>\n",
       "    <tr>\n",
       "      <th>0</th>\n",
       "      <td>The database postgres_data has been successful...</td>\n",
       "    </tr>\n",
       "  </tbody>\n",
       "</table>\n",
       "</div>"
      ],
      "text/plain": [
       "                                                   0\n",
       "0  The database postgres_data has been successful..."
      ]
     },
     "execution_count": 30,
     "metadata": {},
     "output_type": "execute_result"
    }
   ],
   "source": [
    "!pip install psycopg2\n",
    "import psycopg2\n",
    "\n",
    "\n",
    "params = {\n",
    "    \"user\": \"postgres\",\n",
    "    \"password\": \"\",\n",
    "    \"host\": \"localhost\",\n",
    "    \"port\": \"5432\",\n",
    "    \"database\": \"evaDB_project\",\n",
    "}\n",
    "\n",
    "# query = f\"DROP DATABASE postgres_data;\"\n",
    "# cursor.query(query).df()\n",
    "\n",
    "query = f\"CREATE DATABASE postgres_data WITH ENGINE = 'postgres', PARAMETERS = {params};\"\n",
    "cursor.query(query).df()"
   ]
  },
  {
   "cell_type": "code",
   "execution_count": 35,
   "metadata": {
    "colab": {
     "base_uri": "https://localhost:8080/",
     "height": 80
    },
    "id": "CtnU6-TBNUnr",
    "outputId": "7cf40a6f-9da9-4aaf-994b-e756966329c7",
    "scrolled": true
   },
   "outputs": [],
   "source": [
    "user_preference = cursor.query(\"\"\"\n",
    "  USE postgres_data {\n",
    "    select * from user_preference\n",
    "  }\n",
    "\"\"\").df()"
   ]
  },
  {
   "cell_type": "code",
   "execution_count": 36,
   "metadata": {
    "scrolled": true
   },
   "outputs": [
    {
     "data": {
      "text/html": [
       "<div>\n",
       "<style scoped>\n",
       "    .dataframe tbody tr th:only-of-type {\n",
       "        vertical-align: middle;\n",
       "    }\n",
       "\n",
       "    .dataframe tbody tr th {\n",
       "        vertical-align: top;\n",
       "    }\n",
       "\n",
       "    .dataframe thead th {\n",
       "        text-align: right;\n",
       "    }\n",
       "</style>\n",
       "<table border=\"1\" class=\"dataframe\">\n",
       "  <thead>\n",
       "    <tr style=\"text-align: right;\">\n",
       "      <th></th>\n",
       "      <th>user_name</th>\n",
       "      <th>price_preference</th>\n",
       "      <th>user_id</th>\n",
       "      <th>cuisine_preferences</th>\n",
       "      <th>dietary_preferences</th>\n",
       "      <th>current_cravings</th>\n",
       "      <th>other_preferences</th>\n",
       "    </tr>\n",
       "  </thead>\n",
       "  <tbody>\n",
       "    <tr>\n",
       "      <th>0</th>\n",
       "      <td>Alice</td>\n",
       "      <td>3</td>\n",
       "      <td>1</td>\n",
       "      <td>Italian</td>\n",
       "      <td>Vegan, Gluten-Free</td>\n",
       "      <td>Pasta Alfredo</td>\n",
       "      <td>pets</td>\n",
       "    </tr>\n",
       "    <tr>\n",
       "      <th>1</th>\n",
       "      <td>Bob</td>\n",
       "      <td>2</td>\n",
       "      <td>2</td>\n",
       "      <td>Chinese</td>\n",
       "      <td>Gluten-Free</td>\n",
       "      <td>Dim Sum, Ice-cream</td>\n",
       "      <td>wifi</td>\n",
       "    </tr>\n",
       "    <tr>\n",
       "      <th>2</th>\n",
       "      <td>Charlie</td>\n",
       "      <td>3</td>\n",
       "      <td>3</td>\n",
       "      <td>Indian</td>\n",
       "      <td>Vegetarian</td>\n",
       "      <td>Paneer Tikka</td>\n",
       "      <td>outdoor seating</td>\n",
       "    </tr>\n",
       "  </tbody>\n",
       "</table>\n",
       "</div>"
      ],
      "text/plain": [
       "  user_name price_preference  user_id cuisine_preferences dietary_preferences  \\\n",
       "0     Alice                3        1             Italian  Vegan, Gluten-Free   \n",
       "1       Bob                2        2             Chinese         Gluten-Free   \n",
       "2   Charlie                3        3              Indian          Vegetarian   \n",
       "\n",
       "     current_cravings other_preferences  \n",
       "0       Pasta Alfredo              pets  \n",
       "1  Dim Sum, Ice-cream              wifi  \n",
       "2        Paneer Tikka   outdoor seating  "
      ]
     },
     "execution_count": 36,
     "metadata": {},
     "output_type": "execute_result"
    }
   ],
   "source": [
    "user_preference"
   ]
  },
  {
   "cell_type": "code",
   "execution_count": null,
   "metadata": {},
   "outputs": [],
   "source": [
    "# Set your OpenAI key as an environment variable\n",
    "import os\n",
    "os.environ['OPENAI_KEY'] = 'sk-'\n",
    "# open_ai_key = os.environ.get('OPENAI_KEY')"
   ]
  },
  {
   "cell_type": "code",
   "execution_count": null,
   "metadata": {
    "scrolled": true
   },
   "outputs": [],
   "source": [
    "chatgpt_udf = f\"\"\"\n",
    "    SELECT ChatGPT(\"Given the list of restaurants, which one would you recommend, only give one recomendation:  {restaurant_list}, the number supplied means the user'' s price preference, these are the user''s name and their respective preferences, please put all information into consideration for this user: \" , user_name, cuisine_preferences, dietary_preferences, current_cravings, price_preference) \n",
    "    FROM postgres_data.user_preference;\n",
    "\"\"\"\n",
    "print(type(chatgpt_udf))\n",
    "result = cursor.query(chatgpt_udf).df()"
   ]
  },
  {
   "cell_type": "code",
   "execution_count": null,
   "metadata": {
    "scrolled": false
   },
   "outputs": [],
   "source": [
    "print(result['chatgpt.response'][0])\n",
    "print(result['chatgpt.response'][1])\n",
    "print(result['chatgpt.response'][2])"
   ]
  },
  {
   "cell_type": "code",
   "execution_count": null,
   "metadata": {},
   "outputs": [],
   "source": []
  },
  {
   "cell_type": "code",
   "execution_count": null,
   "metadata": {},
   "outputs": [],
   "source": [
    "def recommend_restaurants(restaurants, user_preferences, strong_preferences):\n",
    "    # Filter out restaurants not meeting strong preferences\n",
    "    for preference in strong_preferences:\n",
    "        restaurants = restaurants[restaurants['amenities'].apply(lambda x: preference in x)]\n",
    "\n",
    "    # Scoring mechanism could be adjusted\n",
    "    restaurants['score'] = 0\n",
    "    for index, restaurant in restaurants.iterrows():\n",
    "        if user_preferences['cuisine_preferences'] in restaurant['cuisine']:\n",
    "            restaurants.at[index, 'score'] += 2\n",
    "        if user_preferences['price_preference'] >= restaurant['price_level']:\n",
    "            restaurants.at[index, 'score'] += 1\n",
    "        for preference in user_preferences['other_preferences']:\n",
    "            if preference in restaurant['amenities']:\n",
    "                restaurants.at[index, 'score'] += 1\n",
    "\n",
    "    # Sort based on score\n",
    "    recommended = restaurants.sort_values(by='score', ascending=False)\n",
    "\n",
    "    return recommended.head(1)  # Return top recommendation\n",
    "\n",
    "\n"
   ]
  },
  {
   "cell_type": "code",
   "execution_count": null,
   "metadata": {},
   "outputs": [],
   "source": [
    "user_preferences = {\n",
    "    'cuisine_preferences': 'Italian',\n",
    "    'price_preference': 3,\n",
    "    'other_preferences': ['wifi', 'parking']\n",
    "}\n",
    "\n",
    "strong_preferences = ['wifi', 'pet-friendly']  # Strong preferences\n",
    "recommended_restaurant = recommend_restaurants(restaurants_df, user_preferences, strong_preferences)"
   ]
  },
  {
   "cell_type": "code",
   "execution_count": null,
   "metadata": {},
   "outputs": [],
   "source": [
    "import googlemaps\n",
    "\n",
    "def calculate_route(user_location, destination, api_key):\n",
    "    gmaps = googlemaps.Client(key=api_key)\n",
    "    directions = gmaps.directions(user_location, destination, mode=\"driving\")\n",
    "\n",
    "    if directions:\n",
    "        route = directions[0]['legs'][0]\n",
    "        return {\n",
    "            \"distance\": route['distance']['text'],\n",
    "            \"duration\": route['duration']['text'],\n",
    "            \"start_address\": route['start_address'],\n",
    "            \"end_address\": route['end_address'],\n",
    "            \"steps\": [step['html_instructions'] for step in route['steps']]\n",
    "        }\n",
    "    else:\n",
    "        return None\n"
   ]
  },
  {
   "cell_type": "code",
   "execution_count": null,
   "metadata": {},
   "outputs": [],
   "source": [
    "user_location = input(\"Please enter your current location (address or coordinates): \")\n",
    "recommended_restaurant = recommend_restaurants(restaurants_df, user_preferences, strong_preferences)\n",
    "if recommended_restaurant:\n",
    "    restaurant_address = recommended_restaurant['address']\n",
    "\n",
    "    # Calculate route from user location to the recommended restaurant\n",
    "    route_info = calculate_route(user_location, restaurant_address, api_key)\n",
    "    if route_info:\n",
    "        print(f\"Distance: {route_info['distance']}\")\n",
    "        print(f\"Duration: {route_info['duration']}\")\n",
    "        print(\"Directions:\")\n",
    "        for step in route_info['steps']:\n",
    "            print(step)\n",
    "    else:\n",
    "        print(\"No route found.\")\n",
    "else:\n",
    "    print(\"No restaurant recommendation found.\")\n",
    "\n"
   ]
  }
 ],
 "metadata": {
  "colab": {
   "provenance": []
  },
  "kernelspec": {
   "display_name": "Python 3 (ipykernel)",
   "language": "python",
   "name": "python3"
  },
  "language_info": {
   "codemirror_mode": {
    "name": "ipython",
    "version": 3
   },
   "file_extension": ".py",
   "mimetype": "text/x-python",
   "name": "python",
   "nbconvert_exporter": "python",
   "pygments_lexer": "ipython3",
   "version": "3.11.5"
  }
 },
 "nbformat": 4,
 "nbformat_minor": 1
}
