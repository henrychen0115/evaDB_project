{
 "cells": [
  {
   "cell_type": "code",
   "execution_count": 1,
   "metadata": {},
   "outputs": [
    {
     "name": "stdout",
     "output_type": "stream",
     "text": [
      "Note: you may need to restart the kernel to use updated packages.\n"
     ]
    }
   ],
   "source": [
    "%pip install --quiet \"evadb[document,notebook]\""
   ]
  },
  {
   "cell_type": "code",
   "execution_count": 2,
   "metadata": {
    "colab": {
     "base_uri": "https://localhost:8080/"
    },
    "id": "rmJmeP869U3S",
    "outputId": "a7150e71-eb0b-46ce-e60c-c8edd4b57d4b"
   },
   "outputs": [],
   "source": [
    "import evadb\n",
    "cursor = evadb.connect().cursor()"
   ]
  },
  {
   "cell_type": "code",
   "execution_count": 3,
   "metadata": {
    "colab": {
     "base_uri": "https://localhost:8080/"
    },
    "id": "MqDxN35iLp1C",
    "outputId": "ff36beb3-8deb-442d-8c42-f87beac5c092"
   },
   "outputs": [
    {
     "name": "stdout",
     "output_type": "stream",
     "text": [
      "Requirement already satisfied: requests in c:\\users\\henry\\anaconda3\\lib\\site-packages (2.28.1)\n",
      "Requirement already satisfied: certifi>=2017.4.17 in c:\\users\\henry\\anaconda3\\lib\\site-packages (from requests) (2022.12.7)\n",
      "Requirement already satisfied: charset-normalizer<3,>=2 in c:\\users\\henry\\anaconda3\\lib\\site-packages (from requests) (2.0.4)\n",
      "Requirement already satisfied: idna<4,>=2.5 in c:\\users\\henry\\anaconda3\\lib\\site-packages (from requests) (3.4)\n",
      "Requirement already satisfied: urllib3<1.27,>=1.21.1 in c:\\users\\henry\\anaconda3\\lib\\site-packages (from requests) (1.26.14)\n",
      "Note: you may need to restart the kernel to use updated packages.\n"
     ]
    }
   ],
   "source": [
    "%pip install requests"
   ]
  },
  {
   "cell_type": "code",
   "execution_count": 4,
   "metadata": {
    "id": "J3ijMSq7Ki_I"
   },
   "outputs": [],
   "source": [
    "import requests\n",
    "\n",
    "\n",
    "def get_lat_lng_from_address(address, api_key):\n",
    "    endpoint_url = \"https://maps.googleapis.com/maps/api/geocode/json\"\n",
    "\n",
    "    params = {\n",
    "        'address': address,\n",
    "        'key': api_key\n",
    "    }\n",
    "\n",
    "    response = requests.get(endpoint_url, params=params)\n",
    "    result = response.json()\n",
    "\n",
    "    if 'results' in result and len(result['results']) > 0:\n",
    "        location = result['results'][0]['geometry']['location']\n",
    "        return f\"{location['lat']},{location['lng']}\"\n",
    "    else:\n",
    "        return None\n",
    "\n",
    "def get_nearby_restaurants(address, api_key):\n",
    "    location = get_lat_lng_from_address(address, api_key)\n",
    "    if not location:\n",
    "        return []\n",
    "\n",
    "    endpoint_url = \"https://maps.googleapis.com/maps/api/place/nearbysearch/json\"\n",
    "    # radius calculated in meters\n",
    "    params = {\n",
    "        'location': location,\n",
    "        'radius': 500,\n",
    "        'type': 'restaurant',\n",
    "        'key': api_key\n",
    "    }\n",
    "\n",
    "    response = requests.get(endpoint_url, params=params)\n",
    "    result = response.json()\n",
    "\n",
    "    if 'results' in result:\n",
    "        restaurants = [place for place in result['results']]\n",
    "        return restaurants\n",
    "    else:\n",
    "        return []\n"
   ]
  },
  {
   "cell_type": "code",
   "execution_count": 5,
   "metadata": {},
   "outputs": [],
   "source": [
    "def remove_chars_from_string(data):\n",
    "    data_str = str(data)\n",
    "    cleaned_str = data_str.replace(\"'\", \"\").replace(\"{\", \"\").replace(\"}\", \"\").replace(\"\\\"\", \"\")\n",
    "    return cleaned_str\n",
    "    "
   ]
  },
  {
   "cell_type": "code",
   "execution_count": 6,
   "metadata": {
    "colab": {
     "base_uri": "https://localhost:8080/"
    },
    "id": "TxTYMDNqL-kQ",
    "outputId": "d39eabbd-69f2-4a5f-d491-4403a36f6a63"
   },
   "outputs": [
    {
     "name": "stdout",
     "output_type": "stream",
     "text": [
      "[{'name': 'The General Muir', 'price_level': 2}, {'name': 'BORUBORU', 'price_level': 2}, {'name': 'The Gumbo Gourmet', 'price_level': 1}, {'name': 'Desta Ethiopian Kitchen Emory Point', 'price_level': 2}, {'name': 'SriThai', 'price_level': 2}, {'name': \"Chick'nCone, Emory Point, Atlanta\", 'price_level': 1}, {'name': 'The Point', 'price_level': None}]\n",
      "[name: The General Muir, price_level: 2, name: BORUBORU, price_level: 2, name: The Gumbo Gourmet, price_level: 1, name: Desta Ethiopian Kitchen Emory Point, price_level: 2, name: SriThai, price_level: 2, name: ChicknCone, Emory Point, Atlanta, price_level: 1, name: The Point, price_level: None]\n"
     ]
    }
   ],
   "source": [
    "api_key = \""\n",
    "address = \"Emory Point\"\n",
    "restaurant_list = []\n",
    "restaurant_names = []\n",
    "restaurants = get_nearby_restaurants(address, api_key)\n",
    "for index, restaurant in enumerate(restaurants, 1):\n",
    "    restaurant_list.append({'name': restaurant['name'], 'price_level': restaurant.get('price_level')})\n",
    "    restaurant_names.append(restaurant['name'])\n",
    "print(restaurant_list)\n",
    "restaurant_list = remove_chars_from_string(restaurant_list)\n",
    "print(restaurant_list)"
   ]
  },
  {
   "cell_type": "code",
   "execution_count": 7,
   "metadata": {
    "colab": {
     "base_uri": "https://localhost:8080/"
    },
    "id": "JCqptjz1lWG_",
    "outputId": "fff10c73-3ad4-49c1-ffe1-8c7dfe38a3ea"
   },
   "outputs": [
    {
     "name": "stderr",
     "output_type": "stream",
     "text": [
      "'apt' is not recognized as an internal or external command,\n",
      "operable program or batch file.\n",
      "'service' is not recognized as an internal or external command,\n",
      "operable program or batch file.\n"
     ]
    }
   ],
   "source": [
    "!apt -qq install postgresql\n",
    "!service postgresql start"
   ]
  },
  {
   "cell_type": "code",
   "execution_count": null,
   "metadata": {
    "colab": {
     "base_uri": "https://localhost:8080/",
     "height": 80
    },
    "id": "7qbPqkvtDg2m",
    "outputId": "705bbd94-5cf3-4a56-f69e-db04e2d5cf28"
   },
   "outputs": [],
   "source": []
  },
  {
   "cell_type": "code",
   "execution_count": 8,
   "metadata": {
    "colab": {
     "base_uri": "https://localhost:8080/",
     "height": 80
    },
    "id": "6qJZO7Dyri9n",
    "outputId": "787da849-f036-4fc4-9939-be1e467f82c6"
   },
   "outputs": [
    {
     "name": "stdout",
     "output_type": "stream",
     "text": [
      "Requirement already satisfied: psycopg2 in c:\\users\\henry\\anaconda3\\lib\\site-packages (2.9.9)\n"
     ]
    },
    {
     "data": {
      "text/html": [
       "<div>\n",
       "<style scoped>\n",
       "    .dataframe tbody tr th:only-of-type {\n",
       "        vertical-align: middle;\n",
       "    }\n",
       "\n",
       "    .dataframe tbody tr th {\n",
       "        vertical-align: top;\n",
       "    }\n",
       "\n",
       "    .dataframe thead th {\n",
       "        text-align: right;\n",
       "    }\n",
       "</style>\n",
       "<table border=\"1\" class=\"dataframe\">\n",
       "  <thead>\n",
       "    <tr style=\"text-align: right;\">\n",
       "      <th></th>\n",
       "      <th>0</th>\n",
       "    </tr>\n",
       "  </thead>\n",
       "  <tbody>\n",
       "    <tr>\n",
       "      <th>0</th>\n",
       "      <td>The database postgres_data has been successful...</td>\n",
       "    </tr>\n",
       "  </tbody>\n",
       "</table>\n",
       "</div>"
      ],
      "text/plain": [
       "                                                   0\n",
       "0  The database postgres_data has been successful..."
      ]
     },
     "execution_count": 8,
     "metadata": {},
     "output_type": "execute_result"
    }
   ],
   "source": [
    "!pip install psycopg2\n",
    "import psycopg2\n",
    "\n",
    "\n",
    "params = {\n",
    "    \"user\": \"postgres\",\n",
    "    \"password\": \"Iamawsome22?\",\n",
    "    \"host\": \"localhost\",\n",
    "    \"port\": \"5432\",\n",
    "    \"database\": \"evaDB_project\",\n",
    "}\n",
    "\n",
    "query = f\"DROP DATABASE postgres_data;\"\n",
    "cursor.query(query).df()\n",
    "\n",
    "query = f\"CREATE DATABASE postgres_data WITH ENGINE = 'postgres', PARAMETERS = {params};\"\n",
    "cursor.query(query).df()"
   ]
  },
  {
   "cell_type": "code",
   "execution_count": 9,
   "metadata": {
    "colab": {
     "base_uri": "https://localhost:8080/",
     "height": 80
    },
    "id": "CtnU6-TBNUnr",
    "outputId": "7cf40a6f-9da9-4aaf-994b-e756966329c7",
    "scrolled": true
   },
   "outputs": [],
   "source": [
    "user_preference = cursor.query(\"\"\"\n",
    "  USE postgres_data {\n",
    "    select * from user_preference\n",
    "  }\n",
    "\"\"\").df()"
   ]
  },
  {
   "cell_type": "code",
   "execution_count": 10,
   "metadata": {
    "scrolled": true
   },
   "outputs": [
    {
     "data": {
      "text/html": [
       "<div>\n",
       "<style scoped>\n",
       "    .dataframe tbody tr th:only-of-type {\n",
       "        vertical-align: middle;\n",
       "    }\n",
       "\n",
       "    .dataframe tbody tr th {\n",
       "        vertical-align: top;\n",
       "    }\n",
       "\n",
       "    .dataframe thead th {\n",
       "        text-align: right;\n",
       "    }\n",
       "</style>\n",
       "<table border=\"1\" class=\"dataframe\">\n",
       "  <thead>\n",
       "    <tr style=\"text-align: right;\">\n",
       "      <th></th>\n",
       "      <th>user_name</th>\n",
       "      <th>price_preference</th>\n",
       "      <th>user_id</th>\n",
       "      <th>cuisine_preferences</th>\n",
       "      <th>dietary_preferences</th>\n",
       "      <th>current_cravings</th>\n",
       "    </tr>\n",
       "  </thead>\n",
       "  <tbody>\n",
       "    <tr>\n",
       "      <th>0</th>\n",
       "      <td>Alice</td>\n",
       "      <td>3</td>\n",
       "      <td>1</td>\n",
       "      <td>Italian</td>\n",
       "      <td>Vegan, Gluten-Free</td>\n",
       "      <td>Pasta Alfredo</td>\n",
       "    </tr>\n",
       "    <tr>\n",
       "      <th>1</th>\n",
       "      <td>Bob</td>\n",
       "      <td>2</td>\n",
       "      <td>2</td>\n",
       "      <td>Chinese</td>\n",
       "      <td>Gluten-Free</td>\n",
       "      <td>Dim Sum, Ice-cream</td>\n",
       "    </tr>\n",
       "    <tr>\n",
       "      <th>2</th>\n",
       "      <td>Charlie</td>\n",
       "      <td>3</td>\n",
       "      <td>3</td>\n",
       "      <td>Indian</td>\n",
       "      <td>Vegetarian</td>\n",
       "      <td>Paneer Tikka</td>\n",
       "    </tr>\n",
       "  </tbody>\n",
       "</table>\n",
       "</div>"
      ],
      "text/plain": [
       "  user_name price_preference  user_id cuisine_preferences dietary_preferences  \\\n",
       "0     Alice                3        1             Italian  Vegan, Gluten-Free   \n",
       "1       Bob                2        2             Chinese         Gluten-Free   \n",
       "2   Charlie                3        3              Indian          Vegetarian   \n",
       "\n",
       "     current_cravings  \n",
       "0       Pasta Alfredo  \n",
       "1  Dim Sum, Ice-cream  \n",
       "2        Paneer Tikka  "
      ]
     },
     "execution_count": 10,
     "metadata": {},
     "output_type": "execute_result"
    }
   ],
   "source": [
    "user_preference"
   ]
  },
  {
   "cell_type": "code",
   "execution_count": 11,
   "metadata": {},
   "outputs": [],
   "source": [
    "# Set your OpenAI key as an environment variable\n",
    "import os\n",
    "os.environ['OPENAI_KEY'] = 'sk-'\n",
    "# open_ai_key = os.environ.get('OPENAI_KEY')"
   ]
  },
  {
   "cell_type": "code",
   "execution_count": 16,
   "metadata": {
    "scrolled": false
   },
   "outputs": [
    {
     "name": "stdout",
     "output_type": "stream",
     "text": [
      "<class 'str'>\n"
     ]
    },
    {
     "name": "stderr",
     "output_type": "stream",
     "text": [
      "C:\\Users\\henry\\anaconda3\\lib\\site-packages\\evadb\\third_party\\databases\\postgres\\postgres_handler.py:93: UserWarning: pandas only supports SQLAlchemy connectable (engine/connection) or database string URI or sqlite3 DBAPI2 connection. Other DBAPI2 objects are not tested. Please consider using SQLAlchemy.\n",
      "  tables_df = pd.read_sql_query(query, self.connection)\n",
      "C:\\Users\\henry\\anaconda3\\lib\\site-packages\\evadb\\third_party\\databases\\postgres\\postgres_handler.py:111: UserWarning: pandas only supports SQLAlchemy connectable (engine/connection) or database string URI or sqlite3 DBAPI2 connection. Other DBAPI2 objects are not tested. Please consider using SQLAlchemy.\n",
      "  columns_df = pd.read_sql_query(query, self.connection)\n",
      "C:\\Users\\henry\\anaconda3\\lib\\site-packages\\evadb\\third_party\\databases\\postgres\\postgres_handler.py:93: UserWarning: pandas only supports SQLAlchemy connectable (engine/connection) or database string URI or sqlite3 DBAPI2 connection. Other DBAPI2 objects are not tested. Please consider using SQLAlchemy.\n",
      "  tables_df = pd.read_sql_query(query, self.connection)\n",
      "C:\\Users\\henry\\anaconda3\\lib\\site-packages\\evadb\\third_party\\databases\\postgres\\postgres_handler.py:111: UserWarning: pandas only supports SQLAlchemy connectable (engine/connection) or database string URI or sqlite3 DBAPI2 connection. Other DBAPI2 objects are not tested. Please consider using SQLAlchemy.\n",
      "  columns_df = pd.read_sql_query(query, self.connection)\n"
     ]
    }
   ],
   "source": [
    "chatgpt_udf = f\"\"\"\n",
    "    SELECT ChatGPT(\"Given the list of restaurants, which one would you recommend, only give one recomendation:  {restaurant_list}, the number supplied means the user'' s price preference, these are the user''s name and their respective preferences, please put all information into consideration for this user: \" , user_name, cuisine_preferences, dietary_preferences, current_cravings, price_preference) \n",
    "    FROM postgres_data.user_preference;\n",
    "\"\"\"\n",
    "print(type(chatgpt_udf))\n",
    "result = cursor.query(chatgpt_udf).df()"
   ]
  },
  {
   "cell_type": "code",
   "execution_count": 17,
   "metadata": {},
   "outputs": [
    {
     "name": "stdout",
     "output_type": "stream",
     "text": [
      "Based on the user's price preference and considering all the information provided, I would recommend the restaurant \"The Gumbo Gourmet.\"\n",
      "Based on the user's price preference and considering all the information provided, I would recommend the restaurant \"The Gumbo Gourmet.\" It has a price level of 1, which aligns with the user's preference, and it is one of the options that have been mentioned.\n",
      "Based on the user's preferences and the given list of restaurants, I would recommend \"The General Muir\". It has a price level of 2, which matches the user's preference, and it is a highly regarded restaurant.\n"
     ]
    }
   ],
   "source": [
    "print(result['chatgpt.response'][0])\n",
    "print(result['chatgpt.response'][1])\n",
    "print(result['chatgpt.response'][2])"
   ]
  }
 ],
 "metadata": {
  "colab": {
   "provenance": []
  },
  "kernelspec": {
   "display_name": "Python 3 (ipykernel)",
   "language": "python",
   "name": "python3"
  },
  "language_info": {
   "codemirror_mode": {
    "name": "ipython",
    "version": 3
   },
   "file_extension": ".py",
   "mimetype": "text/x-python",
   "name": "python",
   "nbconvert_exporter": "python",
   "pygments_lexer": "ipython3",
   "version": "3.10.9"
  }
 },
 "nbformat": 4,
 "nbformat_minor": 1
}
